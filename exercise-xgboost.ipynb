{
 "cells": [
  {
   "cell_type": "markdown",
   "id": "231c528d",
   "metadata": {
    "papermill": {
     "duration": 0.010505,
     "end_time": "2022-07-11T09:54:03.022687",
     "exception": false,
     "start_time": "2022-07-11T09:54:03.012182",
     "status": "completed"
    },
    "tags": []
   },
   "source": [
    "**This notebook is an exercise in the [Intermediate Machine Learning](https://www.kaggle.com/learn/intermediate-machine-learning) course.  You can reference the tutorial at [this link](https://www.kaggle.com/alexisbcook/xgboost).**\n",
    "\n",
    "---\n"
   ]
  },
  {
   "cell_type": "markdown",
   "id": "dca268e9",
   "metadata": {
    "papermill": {
     "duration": 0.005379,
     "end_time": "2022-07-11T09:54:03.035185",
     "exception": false,
     "start_time": "2022-07-11T09:54:03.029806",
     "status": "completed"
    },
    "tags": []
   },
   "source": [
    "In this exercise, you will use your new knowledge to train a model with **gradient boosting**.\n",
    "\n",
    "# Setup\n",
    "\n",
    "The questions below will give you feedback on your work. Run the following cell to set up the feedback system."
   ]
  },
  {
   "cell_type": "code",
   "execution_count": 1,
   "id": "7873d531",
   "metadata": {
    "execution": {
     "iopub.execute_input": "2022-07-11T09:54:03.048653Z",
     "iopub.status.busy": "2022-07-11T09:54:03.048050Z",
     "iopub.status.idle": "2022-07-11T09:54:05.616745Z",
     "shell.execute_reply": "2022-07-11T09:54:05.614929Z"
    },
    "papermill": {
     "duration": 2.578833,
     "end_time": "2022-07-11T09:54:05.619670",
     "exception": false,
     "start_time": "2022-07-11T09:54:03.040837",
     "status": "completed"
    },
    "tags": []
   },
   "outputs": [
    {
     "name": "stdout",
     "output_type": "stream",
     "text": [
      "Setup Complete\n"
     ]
    }
   ],
   "source": [
    "# Set up code checking\n",
    "import os\n",
    "if not os.path.exists(\"../input/train.csv\"):\n",
    "    os.symlink(\"../input/home-data-for-ml-course/train.csv\", \"../input/train.csv\")  \n",
    "    os.symlink(\"../input/home-data-for-ml-course/test.csv\", \"../input/test.csv\") \n",
    "from learntools.core import binder\n",
    "binder.bind(globals())\n",
    "from learntools.ml_intermediate.ex6 import *\n",
    "print(\"Setup Complete\")"
   ]
  },
  {
   "cell_type": "markdown",
   "id": "94e60e79",
   "metadata": {
    "papermill": {
     "duration": 0.005619,
     "end_time": "2022-07-11T09:54:05.631776",
     "exception": false,
     "start_time": "2022-07-11T09:54:05.626157",
     "status": "completed"
    },
    "tags": []
   },
   "source": [
    "You will work with the [Housing Prices Competition for Kaggle Learn Users](https://www.kaggle.com/c/home-data-for-ml-course) dataset from the previous exercise. \n",
    "\n",
    "![Ames Housing dataset image](https://i.imgur.com/lTJVG4e.png)\n",
    "\n",
    "Run the next code cell without changes to load the training and validation sets in `X_train`, `X_valid`, `y_train`, and `y_valid`.  The test set is loaded in `X_test`."
   ]
  },
  {
   "cell_type": "code",
   "execution_count": 2,
   "id": "8dd80c47",
   "metadata": {
    "execution": {
     "iopub.execute_input": "2022-07-11T09:54:05.645220Z",
     "iopub.status.busy": "2022-07-11T09:54:05.644637Z",
     "iopub.status.idle": "2022-07-11T09:54:05.838971Z",
     "shell.execute_reply": "2022-07-11T09:54:05.838147Z"
    },
    "papermill": {
     "duration": 0.204245,
     "end_time": "2022-07-11T09:54:05.841765",
     "exception": false,
     "start_time": "2022-07-11T09:54:05.637520",
     "status": "completed"
    },
    "tags": []
   },
   "outputs": [],
   "source": [
    "import pandas as pd\n",
    "from sklearn.model_selection import train_test_split\n",
    "\n",
    "# Read the data\n",
    "X = pd.read_csv('../input/train.csv', index_col='Id')\n",
    "X_test_full = pd.read_csv('../input/test.csv', index_col='Id')\n",
    "\n",
    "# Remove rows with missing target, separate target from predictors\n",
    "X.dropna(axis=0, subset=['SalePrice'], inplace=True)\n",
    "y = X.SalePrice              \n",
    "X.drop(['SalePrice'], axis=1, inplace=True)\n",
    "\n",
    "# Break off validation set from training data\n",
    "X_train_full, X_valid_full, y_train, y_valid = train_test_split(X, y, train_size=0.8, test_size=0.2,\n",
    "                                                                random_state=0)\n",
    "\n",
    "# \"Cardinality\" means the number of unique values in a column\n",
    "# Select categorical columns with relatively low cardinality (convenient but arbitrary)\n",
    "low_cardinality_cols = [cname for cname in X_train_full.columns if X_train_full[cname].nunique() < 10 and \n",
    "                        X_train_full[cname].dtype == \"object\"]\n",
    "\n",
    "# Select numeric columns\n",
    "numeric_cols = [cname for cname in X_train_full.columns if X_train_full[cname].dtype in ['int64', 'float64']]\n",
    "\n",
    "# Keep selected columns only\n",
    "my_cols = low_cardinality_cols + numeric_cols\n",
    "X_train = X_train_full[my_cols].copy()\n",
    "X_valid = X_valid_full[my_cols].copy()\n",
    "X_test = X_test_full[my_cols].copy()\n",
    "\n",
    "# One-hot encode the data (to shorten the code, we use pandas)\n",
    "X_train = pd.get_dummies(X_train)\n",
    "X_valid = pd.get_dummies(X_valid)\n",
    "X_test = pd.get_dummies(X_test)\n",
    "X_train, X_valid = X_train.align(X_valid, join='left', axis=1)\n",
    "X_train, X_test = X_train.align(X_test, join='left', axis=1)"
   ]
  },
  {
   "cell_type": "markdown",
   "id": "f2b42274",
   "metadata": {
    "papermill": {
     "duration": 0.005437,
     "end_time": "2022-07-11T09:54:05.853259",
     "exception": false,
     "start_time": "2022-07-11T09:54:05.847822",
     "status": "completed"
    },
    "tags": []
   },
   "source": [
    "# Step 1: Build model\n",
    "\n",
    "### Part A\n",
    "\n",
    "In this step, you'll build and train your first model with gradient boosting.\n",
    "\n",
    "- Begin by setting `my_model_1` to an XGBoost model.  Use the [XGBRegressor](https://xgboost.readthedocs.io/en/latest/python/python_api.html#xgboost.XGBRegressor) class, and set the random seed to 0 (`random_state=0`).  **Leave all other parameters as default.**\n",
    "- Then, fit the model to the training data in `X_train` and `y_train`."
   ]
  },
  {
   "cell_type": "code",
   "execution_count": 3,
   "id": "74128d59",
   "metadata": {
    "execution": {
     "iopub.execute_input": "2022-07-11T09:54:05.866378Z",
     "iopub.status.busy": "2022-07-11T09:54:05.865975Z",
     "iopub.status.idle": "2022-07-11T09:54:06.778991Z",
     "shell.execute_reply": "2022-07-11T09:54:06.777999Z"
    },
    "papermill": {
     "duration": 0.922405,
     "end_time": "2022-07-11T09:54:06.781290",
     "exception": false,
     "start_time": "2022-07-11T09:54:05.858885",
     "status": "completed"
    },
    "tags": []
   },
   "outputs": [
    {
     "data": {
      "application/javascript": [
       "parent.postMessage({\"jupyterEvent\": \"custom.exercise_interaction\", \"data\": {\"outcomeType\": 1, \"valueTowardsCompletion\": 0.5, \"interactionType\": 1, \"questionType\": 2, \"questionId\": \"1.1_Model1A\", \"learnToolsVersion\": \"0.3.4\", \"failureMessage\": \"\", \"exceptionClass\": \"\", \"trace\": \"\"}}, \"*\")"
      ],
      "text/plain": [
       "<IPython.core.display.Javascript object>"
      ]
     },
     "metadata": {},
     "output_type": "display_data"
    },
    {
     "data": {
      "text/markdown": [
       "<span style=\"color:#33cc33\">Correct</span>"
      ],
      "text/plain": [
       "Correct"
      ]
     },
     "metadata": {},
     "output_type": "display_data"
    }
   ],
   "source": [
    "from xgboost import XGBRegressor\n",
    "\n",
    "# Define the model\n",
    "my_model_1 = XGBRegressor(random_state=0) # Your code here\n",
    "\n",
    "# Fit the model\n",
    "my_model_1.fit(X_train, y_train) # Your code here\n",
    "\n",
    "# Check your answer\n",
    "step_1.a.check()"
   ]
  },
  {
   "cell_type": "code",
   "execution_count": 4,
   "id": "a8e86ab0",
   "metadata": {
    "execution": {
     "iopub.execute_input": "2022-07-11T09:54:06.795313Z",
     "iopub.status.busy": "2022-07-11T09:54:06.794965Z",
     "iopub.status.idle": "2022-07-11T09:54:06.799103Z",
     "shell.execute_reply": "2022-07-11T09:54:06.798181Z"
    },
    "papermill": {
     "duration": 0.013477,
     "end_time": "2022-07-11T09:54:06.801285",
     "exception": false,
     "start_time": "2022-07-11T09:54:06.787808",
     "status": "completed"
    },
    "tags": []
   },
   "outputs": [],
   "source": [
    "# Lines below will give you a hint or solution code\n",
    "#step_1.a.hint()\n",
    "#step_1.a.solution()"
   ]
  },
  {
   "cell_type": "markdown",
   "id": "a04bfb73",
   "metadata": {
    "papermill": {
     "duration": 0.005549,
     "end_time": "2022-07-11T09:54:06.812762",
     "exception": false,
     "start_time": "2022-07-11T09:54:06.807213",
     "status": "completed"
    },
    "tags": []
   },
   "source": [
    "### Part B\n",
    "\n",
    "Set `predictions_1` to the model's predictions for the validation data.  Recall that the validation features are stored in `X_valid`."
   ]
  },
  {
   "cell_type": "code",
   "execution_count": 5,
   "id": "4e29cdd5",
   "metadata": {
    "execution": {
     "iopub.execute_input": "2022-07-11T09:54:06.826192Z",
     "iopub.status.busy": "2022-07-11T09:54:06.825581Z",
     "iopub.status.idle": "2022-07-11T09:54:06.849541Z",
     "shell.execute_reply": "2022-07-11T09:54:06.848657Z"
    },
    "papermill": {
     "duration": 0.033515,
     "end_time": "2022-07-11T09:54:06.852086",
     "exception": false,
     "start_time": "2022-07-11T09:54:06.818571",
     "status": "completed"
    },
    "tags": []
   },
   "outputs": [
    {
     "data": {
      "application/javascript": [
       "parent.postMessage({\"jupyterEvent\": \"custom.exercise_interaction\", \"data\": {\"outcomeType\": 1, \"valueTowardsCompletion\": 0.5, \"interactionType\": 1, \"questionType\": 2, \"questionId\": \"1.2_Model1B\", \"learnToolsVersion\": \"0.3.4\", \"failureMessage\": \"\", \"exceptionClass\": \"\", \"trace\": \"\"}}, \"*\")"
      ],
      "text/plain": [
       "<IPython.core.display.Javascript object>"
      ]
     },
     "metadata": {},
     "output_type": "display_data"
    },
    {
     "data": {
      "text/markdown": [
       "<span style=\"color:#33cc33\">Correct</span>"
      ],
      "text/plain": [
       "Correct"
      ]
     },
     "metadata": {},
     "output_type": "display_data"
    }
   ],
   "source": [
    "from sklearn.metrics import mean_absolute_error\n",
    "\n",
    "# Get predictions\n",
    "predictions_1 = my_model_1.predict(X_valid) # Your code here\n",
    "\n",
    "# Check your answer\n",
    "step_1.b.check()"
   ]
  },
  {
   "cell_type": "code",
   "execution_count": 6,
   "id": "63e97fe8",
   "metadata": {
    "execution": {
     "iopub.execute_input": "2022-07-11T09:54:06.868107Z",
     "iopub.status.busy": "2022-07-11T09:54:06.867233Z",
     "iopub.status.idle": "2022-07-11T09:54:06.871546Z",
     "shell.execute_reply": "2022-07-11T09:54:06.870684Z"
    },
    "papermill": {
     "duration": 0.014082,
     "end_time": "2022-07-11T09:54:06.873470",
     "exception": false,
     "start_time": "2022-07-11T09:54:06.859388",
     "status": "completed"
    },
    "tags": []
   },
   "outputs": [],
   "source": [
    "# Lines below will give you a hint or solution code\n",
    "#step_1.b.hint()\n",
    "#step_1.b.solution()"
   ]
  },
  {
   "cell_type": "markdown",
   "id": "72f9b0f0",
   "metadata": {
    "papermill": {
     "duration": 0.006052,
     "end_time": "2022-07-11T09:54:06.885907",
     "exception": false,
     "start_time": "2022-07-11T09:54:06.879855",
     "status": "completed"
    },
    "tags": []
   },
   "source": [
    "### Part C\n",
    "\n",
    "Finally, use the `mean_absolute_error()` function to calculate the mean absolute error (MAE) corresponding to the predictions for the validation set.  Recall that the labels for the validation data are stored in `y_valid`."
   ]
  },
  {
   "cell_type": "code",
   "execution_count": 7,
   "id": "70232400",
   "metadata": {
    "execution": {
     "iopub.execute_input": "2022-07-11T09:54:06.900458Z",
     "iopub.status.busy": "2022-07-11T09:54:06.899751Z",
     "iopub.status.idle": "2022-07-11T09:54:06.909795Z",
     "shell.execute_reply": "2022-07-11T09:54:06.908855Z"
    },
    "papermill": {
     "duration": 0.019749,
     "end_time": "2022-07-11T09:54:06.911849",
     "exception": false,
     "start_time": "2022-07-11T09:54:06.892100",
     "status": "completed"
    },
    "tags": []
   },
   "outputs": [
    {
     "name": "stdout",
     "output_type": "stream",
     "text": [
      "Mean Absolute Error: 17662.736729452055\n"
     ]
    },
    {
     "data": {
      "application/javascript": [
       "parent.postMessage({\"jupyterEvent\": \"custom.exercise_interaction\", \"data\": {\"outcomeType\": 1, \"valueTowardsCompletion\": 0.5, \"interactionType\": 1, \"questionType\": 2, \"questionId\": \"1.3_Model1C\", \"learnToolsVersion\": \"0.3.4\", \"failureMessage\": \"\", \"exceptionClass\": \"\", \"trace\": \"\"}}, \"*\")"
      ],
      "text/plain": [
       "<IPython.core.display.Javascript object>"
      ]
     },
     "metadata": {},
     "output_type": "display_data"
    },
    {
     "data": {
      "text/markdown": [
       "<span style=\"color:#33cc33\">Correct</span>"
      ],
      "text/plain": [
       "Correct"
      ]
     },
     "metadata": {},
     "output_type": "display_data"
    }
   ],
   "source": [
    "# Calculate MAE\n",
    "mae_1 = mean_absolute_error(predictions_1, y_valid) # Your code here\n",
    "\n",
    "# Uncomment to print MAE\n",
    "print(\"Mean Absolute Error:\" , mae_1)\n",
    "\n",
    "# Check your answer\n",
    "step_1.c.check()"
   ]
  },
  {
   "cell_type": "code",
   "execution_count": 8,
   "id": "d9d477f0",
   "metadata": {
    "execution": {
     "iopub.execute_input": "2022-07-11T09:54:06.927200Z",
     "iopub.status.busy": "2022-07-11T09:54:06.926452Z",
     "iopub.status.idle": "2022-07-11T09:54:06.931491Z",
     "shell.execute_reply": "2022-07-11T09:54:06.930190Z"
    },
    "papermill": {
     "duration": 0.01528,
     "end_time": "2022-07-11T09:54:06.933741",
     "exception": false,
     "start_time": "2022-07-11T09:54:06.918461",
     "status": "completed"
    },
    "tags": []
   },
   "outputs": [],
   "source": [
    "# Lines below will give you a hint or solution code\n",
    "#step_1.c.hint()\n",
    "#step_1.c.solution()"
   ]
  },
  {
   "cell_type": "markdown",
   "id": "3d1bc1c5",
   "metadata": {
    "papermill": {
     "duration": 0.006699,
     "end_time": "2022-07-11T09:54:06.947557",
     "exception": false,
     "start_time": "2022-07-11T09:54:06.940858",
     "status": "completed"
    },
    "tags": []
   },
   "source": [
    "# Step 2: Improve the model\n",
    "\n",
    "Now that you've trained a default model as baseline, it's time to tinker with the parameters, to see if you can get better performance!\n",
    "- Begin by setting `my_model_2` to an XGBoost model, using the [XGBRegressor](https://xgboost.readthedocs.io/en/latest/python/python_api.html#xgboost.XGBRegressor) class.  Use what you learned in the previous tutorial to figure out how to change the default parameters (like `n_estimators` and `learning_rate`) to get better results.\n",
    "- Then, fit the model to the training data in `X_train` and `y_train`.\n",
    "- Set `predictions_2` to the model's predictions for the validation data.  Recall that the validation features are stored in `X_valid`.\n",
    "- Finally, use the `mean_absolute_error()` function to calculate the mean absolute error (MAE) corresponding to the predictions on the validation set.  Recall that the labels for the validation data are stored in `y_valid`.\n",
    "\n",
    "In order for this step to be marked correct, your model in `my_model_2` must attain lower MAE than the model in `my_model_1`. "
   ]
  },
  {
   "cell_type": "code",
   "execution_count": 9,
   "id": "b94992b9",
   "metadata": {
    "execution": {
     "iopub.execute_input": "2022-07-11T09:54:06.962353Z",
     "iopub.status.busy": "2022-07-11T09:54:06.961962Z",
     "iopub.status.idle": "2022-07-11T09:54:09.637549Z",
     "shell.execute_reply": "2022-07-11T09:54:09.636271Z"
    },
    "papermill": {
     "duration": 2.685737,
     "end_time": "2022-07-11T09:54:09.639998",
     "exception": false,
     "start_time": "2022-07-11T09:54:06.954261",
     "status": "completed"
    },
    "tags": []
   },
   "outputs": [
    {
     "name": "stderr",
     "output_type": "stream",
     "text": [
      "/opt/conda/lib/python3.7/site-packages/xgboost/sklearn.py:797: UserWarning: `early_stopping_rounds` in `fit` method is deprecated for better compatibility with scikit-learn, use `early_stopping_rounds` in constructor or`set_params` instead.\n",
      "  UserWarning,\n"
     ]
    },
    {
     "name": "stdout",
     "output_type": "stream",
     "text": [
      "Mean Absolute Error: 16802.965325342466\n"
     ]
    },
    {
     "data": {
      "application/javascript": [
       "parent.postMessage({\"jupyterEvent\": \"custom.exercise_interaction\", \"data\": {\"outcomeType\": 1, \"valueTowardsCompletion\": 0.5, \"interactionType\": 1, \"questionType\": 2, \"questionId\": \"2_Model2\", \"learnToolsVersion\": \"0.3.4\", \"failureMessage\": \"\", \"exceptionClass\": \"\", \"trace\": \"\"}}, \"*\")"
      ],
      "text/plain": [
       "<IPython.core.display.Javascript object>"
      ]
     },
     "metadata": {},
     "output_type": "display_data"
    },
    {
     "data": {
      "text/markdown": [
       "<span style=\"color:#33cc33\">Correct</span>"
      ],
      "text/plain": [
       "Correct"
      ]
     },
     "metadata": {},
     "output_type": "display_data"
    }
   ],
   "source": [
    "# Define the model\n",
    "my_model_2 = XGBRegressor(n_estimators=1000, learning_rate=0.05) # Your code here\n",
    "\n",
    "# Fit the model\n",
    "my_model_2.fit(X_train, y_train, \n",
    "             early_stopping_rounds=8, \n",
    "             eval_set=[(X_valid, y_valid)], \n",
    "             verbose=False) # Your code here\n",
    "\n",
    "# Get predictions\n",
    "predictions_2 = my_model_2.predict(X_valid) # Your code here\n",
    "\n",
    "# Calculate MAE\n",
    "mae_2 = mean_absolute_error(predictions_2, y_valid) # Your code here\n",
    "\n",
    "# Uncomment to print MAE\n",
    "print(\"Mean Absolute Error:\" , mae_2)\n",
    "\n",
    "# Check your answer\n",
    "step_2.check()"
   ]
  },
  {
   "cell_type": "code",
   "execution_count": 10,
   "id": "3987bd6f",
   "metadata": {
    "execution": {
     "iopub.execute_input": "2022-07-11T09:54:09.657743Z",
     "iopub.status.busy": "2022-07-11T09:54:09.657316Z",
     "iopub.status.idle": "2022-07-11T09:54:09.661730Z",
     "shell.execute_reply": "2022-07-11T09:54:09.660614Z"
    },
    "papermill": {
     "duration": 0.015532,
     "end_time": "2022-07-11T09:54:09.663988",
     "exception": false,
     "start_time": "2022-07-11T09:54:09.648456",
     "status": "completed"
    },
    "tags": []
   },
   "outputs": [],
   "source": [
    "# Lines below will give you a hint or solution code\n",
    "#step_2.hint()\n",
    "#step_2.solution()"
   ]
  },
  {
   "cell_type": "markdown",
   "id": "c591c4f6",
   "metadata": {
    "papermill": {
     "duration": 0.008219,
     "end_time": "2022-07-11T09:54:09.679241",
     "exception": false,
     "start_time": "2022-07-11T09:54:09.671022",
     "status": "completed"
    },
    "tags": []
   },
   "source": [
    "# Step 3: Break the model\n",
    "\n",
    "In this step, you will create a model that performs worse than the original model in Step 1.  This will help you to develop your intuition for how to set parameters.  You might even find that you accidentally get better performance, which is ultimately a nice problem to have and a valuable learning experience!\n",
    "- Begin by setting `my_model_3` to an XGBoost model, using the [XGBRegressor](https://xgboost.readthedocs.io/en/latest/python/python_api.html#xgboost.XGBRegressor) class.  Use what you learned in the previous tutorial to figure out how to change the default parameters (like `n_estimators` and `learning_rate`) to design a model to get high MAE.\n",
    "- Then, fit the model to the training data in `X_train` and `y_train`.\n",
    "- Set `predictions_3` to the model's predictions for the validation data.  Recall that the validation features are stored in `X_valid`.\n",
    "- Finally, use the `mean_absolute_error()` function to calculate the mean absolute error (MAE) corresponding to the predictions on the validation set.  Recall that the labels for the validation data are stored in `y_valid`.\n",
    "\n",
    "In order for this step to be marked correct, your model in `my_model_3` must attain higher MAE than the model in `my_model_1`. "
   ]
  },
  {
   "cell_type": "code",
   "execution_count": 11,
   "id": "3d3d315f",
   "metadata": {
    "execution": {
     "iopub.execute_input": "2022-07-11T09:54:09.695223Z",
     "iopub.status.busy": "2022-07-11T09:54:09.694473Z",
     "iopub.status.idle": "2022-07-11T09:54:10.188035Z",
     "shell.execute_reply": "2022-07-11T09:54:10.187101Z"
    },
    "papermill": {
     "duration": 0.5043,
     "end_time": "2022-07-11T09:54:10.190418",
     "exception": false,
     "start_time": "2022-07-11T09:54:09.686118",
     "status": "completed"
    },
    "tags": []
   },
   "outputs": [
    {
     "name": "stdout",
     "output_type": "stream",
     "text": [
      "Mean Absolute Error: 20948.60493364726\n"
     ]
    },
    {
     "data": {
      "application/javascript": [
       "parent.postMessage({\"jupyterEvent\": \"custom.exercise_interaction\", \"data\": {\"outcomeType\": 1, \"valueTowardsCompletion\": 0.5, \"interactionType\": 1, \"questionType\": 2, \"questionId\": \"3_Model3\", \"learnToolsVersion\": \"0.3.4\", \"failureMessage\": \"\", \"exceptionClass\": \"\", \"trace\": \"\"}}, \"*\")"
      ],
      "text/plain": [
       "<IPython.core.display.Javascript object>"
      ]
     },
     "metadata": {},
     "output_type": "display_data"
    },
    {
     "data": {
      "text/markdown": [
       "<span style=\"color:#33cc33\">Correct</span>"
      ],
      "text/plain": [
       "Correct"
      ]
     },
     "metadata": {},
     "output_type": "display_data"
    }
   ],
   "source": [
    "# Define the model\n",
    "my_model_3 = XGBRegressor(n_estimators=50, learning_rate=0.5)\n",
    "\n",
    "# Fit the model\n",
    "my_model_3.fit(X_train, y_train) # Your code here\n",
    "\n",
    "# Get predictions\n",
    "predictions_3 = my_model_3.predict(X_valid)\n",
    "\n",
    "# Calculate MAE\n",
    "mae_3 = mean_absolute_error(predictions_3, y_valid) \n",
    "\n",
    "# Uncomment to print MAE\n",
    "print(\"Mean Absolute Error:\" , mae_3)\n",
    "\n",
    "# Check your answer\n",
    "step_3.check()"
   ]
  },
  {
   "cell_type": "code",
   "execution_count": 12,
   "id": "7948b6dc",
   "metadata": {
    "execution": {
     "iopub.execute_input": "2022-07-11T09:54:10.208860Z",
     "iopub.status.busy": "2022-07-11T09:54:10.208499Z",
     "iopub.status.idle": "2022-07-11T09:54:10.212743Z",
     "shell.execute_reply": "2022-07-11T09:54:10.211629Z"
    },
    "papermill": {
     "duration": 0.015483,
     "end_time": "2022-07-11T09:54:10.215154",
     "exception": false,
     "start_time": "2022-07-11T09:54:10.199671",
     "status": "completed"
    },
    "tags": []
   },
   "outputs": [],
   "source": [
    "# Lines below will give you a hint or solution code\n",
    "#step_3.hint()\n",
    "#step_3.solution()"
   ]
  },
  {
   "cell_type": "markdown",
   "id": "0c4451b1",
   "metadata": {
    "papermill": {
     "duration": 0.007115,
     "end_time": "2022-07-11T09:54:10.230073",
     "exception": false,
     "start_time": "2022-07-11T09:54:10.222958",
     "status": "completed"
    },
    "tags": []
   },
   "source": [
    "# Keep going\n",
    "\n",
    "Continue to learn about **[data leakage](https://www.kaggle.com/alexisbcook/data-leakage)**.  This is an important issue for a data scientist to understand, and it has the potential to ruin your models in subtle and dangerous ways!"
   ]
  },
  {
   "cell_type": "markdown",
   "id": "86a3a20e",
   "metadata": {
    "papermill": {
     "duration": 0.007074,
     "end_time": "2022-07-11T09:54:10.244520",
     "exception": false,
     "start_time": "2022-07-11T09:54:10.237446",
     "status": "completed"
    },
    "tags": []
   },
   "source": [
    "---\n",
    "\n",
    "\n",
    "\n",
    "\n",
    "*Have questions or comments? Visit the [course discussion forum](https://www.kaggle.com/learn/intermediate-machine-learning/discussion) to chat with other learners.*"
   ]
  }
 ],
 "metadata": {
  "kernelspec": {
   "display_name": "Python 3",
   "language": "python",
   "name": "python3"
  },
  "language_info": {
   "codemirror_mode": {
    "name": "ipython",
    "version": 3
   },
   "file_extension": ".py",
   "mimetype": "text/x-python",
   "name": "python",
   "nbconvert_exporter": "python",
   "pygments_lexer": "ipython3",
   "version": "3.7.12"
  },
  "papermill": {
   "default_parameters": {},
   "duration": 18.257906,
   "end_time": "2022-07-11T09:54:10.973042",
   "environment_variables": {},
   "exception": null,
   "input_path": "__notebook__.ipynb",
   "output_path": "__notebook__.ipynb",
   "parameters": {},
   "start_time": "2022-07-11T09:53:52.715136",
   "version": "2.3.4"
  }
 },
 "nbformat": 4,
 "nbformat_minor": 5
}
