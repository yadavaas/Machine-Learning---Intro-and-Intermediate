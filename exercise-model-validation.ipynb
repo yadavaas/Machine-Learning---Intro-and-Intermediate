{
 "cells": [
  {
   "cell_type": "markdown",
   "id": "effbd0d1",
   "metadata": {
    "papermill": {
     "duration": 0.005978,
     "end_time": "2022-07-11T09:37:17.035803",
     "exception": false,
     "start_time": "2022-07-11T09:37:17.029825",
     "status": "completed"
    },
    "tags": []
   },
   "source": [
    "**This notebook is an exercise in the [Introduction to Machine Learning](https://www.kaggle.com/learn/intro-to-machine-learning) course.  You can reference the tutorial at [this link](https://www.kaggle.com/dansbecker/model-validation).**\n",
    "\n",
    "---\n"
   ]
  },
  {
   "cell_type": "markdown",
   "id": "a104f07b",
   "metadata": {
    "papermill": {
     "duration": 0.004703,
     "end_time": "2022-07-11T09:37:17.045768",
     "exception": false,
     "start_time": "2022-07-11T09:37:17.041065",
     "status": "completed"
    },
    "tags": []
   },
   "source": [
    "## Recap\n",
    "You've built a model. In this exercise you will test how good your model is.\n",
    "\n",
    "Run the cell below to set up your coding environment where the previous exercise left off."
   ]
  },
  {
   "cell_type": "code",
   "execution_count": 1,
   "id": "839077c1",
   "metadata": {
    "execution": {
     "iopub.execute_input": "2022-07-11T09:37:17.058705Z",
     "iopub.status.busy": "2022-07-11T09:37:17.057780Z",
     "iopub.status.idle": "2022-07-11T09:37:18.469707Z",
     "shell.execute_reply": "2022-07-11T09:37:18.468459Z"
    },
    "papermill": {
     "duration": 1.423089,
     "end_time": "2022-07-11T09:37:18.473945",
     "exception": false,
     "start_time": "2022-07-11T09:37:17.050856",
     "status": "completed"
    },
    "tags": []
   },
   "outputs": [
    {
     "name": "stdout",
     "output_type": "stream",
     "text": [
      "First in-sample predictions: [208500. 181500. 223500. 140000. 250000.]\n",
      "Actual target values for those homes: [208500, 181500, 223500, 140000, 250000]\n",
      "Setup Complete\n"
     ]
    }
   ],
   "source": [
    "# Code you have previously used to load data\n",
    "import pandas as pd\n",
    "from sklearn.tree import DecisionTreeRegressor\n",
    "\n",
    "# Path of the file to read\n",
    "iowa_file_path = '../input/home-data-for-ml-course/train.csv'\n",
    "\n",
    "home_data = pd.read_csv(iowa_file_path)\n",
    "y = home_data.SalePrice\n",
    "feature_columns = ['LotArea', 'YearBuilt', '1stFlrSF', '2ndFlrSF', 'FullBath', 'BedroomAbvGr', 'TotRmsAbvGrd']\n",
    "X = home_data[feature_columns]\n",
    "\n",
    "# Specify Model\n",
    "iowa_model = DecisionTreeRegressor()\n",
    "# Fit Model\n",
    "iowa_model.fit(X, y)\n",
    "\n",
    "print(\"First in-sample predictions:\", iowa_model.predict(X.head()))\n",
    "print(\"Actual target values for those homes:\", y.head().tolist())\n",
    "\n",
    "# Set up code checking\n",
    "from learntools.core import binder\n",
    "binder.bind(globals())\n",
    "from learntools.machine_learning.ex4 import *\n",
    "print(\"Setup Complete\")"
   ]
  },
  {
   "cell_type": "markdown",
   "id": "638ebbca",
   "metadata": {
    "papermill": {
     "duration": 0.004936,
     "end_time": "2022-07-11T09:37:18.484549",
     "exception": false,
     "start_time": "2022-07-11T09:37:18.479613",
     "status": "completed"
    },
    "tags": []
   },
   "source": [
    "# Exercises\n",
    "\n",
    "## Step 1: Split Your Data\n",
    "Use the `train_test_split` function to split up your data.\n",
    "\n",
    "Give it the argument `random_state=1` so the `check` functions know what to expect when verifying your code.\n",
    "\n",
    "Recall, your features are loaded in the DataFrame **X** and your target is loaded in **y**.\n"
   ]
  },
  {
   "cell_type": "code",
   "execution_count": 2,
   "id": "e3671697",
   "metadata": {
    "execution": {
     "iopub.execute_input": "2022-07-11T09:37:18.496819Z",
     "iopub.status.busy": "2022-07-11T09:37:18.496387Z",
     "iopub.status.idle": "2022-07-11T09:37:18.514005Z",
     "shell.execute_reply": "2022-07-11T09:37:18.512822Z"
    },
    "papermill": {
     "duration": 0.026929,
     "end_time": "2022-07-11T09:37:18.516686",
     "exception": false,
     "start_time": "2022-07-11T09:37:18.489757",
     "status": "completed"
    },
    "tags": []
   },
   "outputs": [
    {
     "data": {
      "application/javascript": [
       "parent.postMessage({\"jupyterEvent\": \"custom.exercise_interaction\", \"data\": {\"outcomeType\": 1, \"valueTowardsCompletion\": 0.25, \"interactionType\": 1, \"questionType\": 2, \"questionId\": \"1_SplitData\", \"learnToolsVersion\": \"0.3.4\", \"failureMessage\": \"\", \"exceptionClass\": \"\", \"trace\": \"\"}}, \"*\")"
      ],
      "text/plain": [
       "<IPython.core.display.Javascript object>"
      ]
     },
     "metadata": {},
     "output_type": "display_data"
    },
    {
     "data": {
      "text/markdown": [
       "<span style=\"color:#33cc33\">Correct</span>"
      ],
      "text/plain": [
       "Correct"
      ]
     },
     "metadata": {},
     "output_type": "display_data"
    }
   ],
   "source": [
    "# Import the train_test_split function and uncomment\n",
    "from sklearn.model_selection import train_test_split\n",
    "\n",
    "# fill in and uncomment\n",
    "train_X, val_X, train_y, val_y = train_test_split(X, y, random_state = 1)\n",
    "\n",
    "# Check your answer\n",
    "step_1.check()"
   ]
  },
  {
   "cell_type": "code",
   "execution_count": 3,
   "id": "6672fec3",
   "metadata": {
    "execution": {
     "iopub.execute_input": "2022-07-11T09:37:18.529341Z",
     "iopub.status.busy": "2022-07-11T09:37:18.528918Z",
     "iopub.status.idle": "2022-07-11T09:37:18.534069Z",
     "shell.execute_reply": "2022-07-11T09:37:18.532761Z"
    },
    "papermill": {
     "duration": 0.014164,
     "end_time": "2022-07-11T09:37:18.536348",
     "exception": false,
     "start_time": "2022-07-11T09:37:18.522184",
     "status": "completed"
    },
    "tags": []
   },
   "outputs": [],
   "source": [
    "# The lines below will show you a hint or the solution.\n",
    "# step_1.hint() \n",
    "# step_1.solution()\n"
   ]
  },
  {
   "cell_type": "markdown",
   "id": "b44fb5c3",
   "metadata": {
    "papermill": {
     "duration": 0.005141,
     "end_time": "2022-07-11T09:37:18.547055",
     "exception": false,
     "start_time": "2022-07-11T09:37:18.541914",
     "status": "completed"
    },
    "tags": []
   },
   "source": [
    "## Step 2: Specify and Fit the Model\n",
    "\n",
    "Create a `DecisionTreeRegressor` model and fit it to the relevant data.\n",
    "Set `random_state` to 1 again when creating the model."
   ]
  },
  {
   "cell_type": "code",
   "execution_count": 4,
   "id": "409a3dcd",
   "metadata": {
    "execution": {
     "iopub.execute_input": "2022-07-11T09:37:18.560211Z",
     "iopub.status.busy": "2022-07-11T09:37:18.559112Z",
     "iopub.status.idle": "2022-07-11T09:37:18.588858Z",
     "shell.execute_reply": "2022-07-11T09:37:18.587599Z"
    },
    "papermill": {
     "duration": 0.038882,
     "end_time": "2022-07-11T09:37:18.591229",
     "exception": false,
     "start_time": "2022-07-11T09:37:18.552347",
     "status": "completed"
    },
    "tags": []
   },
   "outputs": [
    {
     "name": "stdout",
     "output_type": "stream",
     "text": [
      "[186500. 184000. 130000.  92000. 164500. 220000. 335000. 144152. 215000.\n",
      " 262000.]\n",
      "[186500. 184000. 130000.  92000. 164500. 220000. 335000. 144152. 215000.\n",
      " 262000.]\n"
     ]
    },
    {
     "data": {
      "application/javascript": [
       "parent.postMessage({\"jupyterEvent\": \"custom.exercise_interaction\", \"data\": {\"outcomeType\": 1, \"valueTowardsCompletion\": 0.25, \"interactionType\": 1, \"questionType\": 2, \"questionId\": \"2_FitModelWithTrain\", \"learnToolsVersion\": \"0.3.4\", \"failureMessage\": \"\", \"exceptionClass\": \"\", \"trace\": \"\"}}, \"*\")"
      ],
      "text/plain": [
       "<IPython.core.display.Javascript object>"
      ]
     },
     "metadata": {},
     "output_type": "display_data"
    },
    {
     "data": {
      "text/markdown": [
       "<span style=\"color:#33cc33\">Correct</span>"
      ],
      "text/plain": [
       "Correct"
      ]
     },
     "metadata": {},
     "output_type": "display_data"
    }
   ],
   "source": [
    "# You imported DecisionTreeRegressor in your last exercise\n",
    "# and that code has been copied to the setup code above. So, no need to\n",
    "# import it again\n",
    "\n",
    "# Specify the model\n",
    "iowa_model = DecisionTreeRegressor(random_state = 1)\n",
    "\n",
    "# Fit iowa_model with the training data.\n",
    "iowa_model.fit(train_X, train_y)\n",
    "\n",
    "# Check your answer\n",
    "step_2.check()"
   ]
  },
  {
   "cell_type": "code",
   "execution_count": 5,
   "id": "24d1a11a",
   "metadata": {
    "execution": {
     "iopub.execute_input": "2022-07-11T09:37:18.604866Z",
     "iopub.status.busy": "2022-07-11T09:37:18.604040Z",
     "iopub.status.idle": "2022-07-11T09:37:18.608975Z",
     "shell.execute_reply": "2022-07-11T09:37:18.608208Z"
    },
    "papermill": {
     "duration": 0.014217,
     "end_time": "2022-07-11T09:37:18.611175",
     "exception": false,
     "start_time": "2022-07-11T09:37:18.596958",
     "status": "completed"
    },
    "tags": []
   },
   "outputs": [],
   "source": [
    "# step_2.hint()\n",
    "# step_2.solution()"
   ]
  },
  {
   "cell_type": "markdown",
   "id": "946386c1",
   "metadata": {
    "papermill": {
     "duration": 0.005618,
     "end_time": "2022-07-11T09:37:18.622536",
     "exception": false,
     "start_time": "2022-07-11T09:37:18.616918",
     "status": "completed"
    },
    "tags": []
   },
   "source": [
    "## Step 3: Make Predictions with Validation data\n"
   ]
  },
  {
   "cell_type": "code",
   "execution_count": 6,
   "id": "46b28135",
   "metadata": {
    "execution": {
     "iopub.execute_input": "2022-07-11T09:37:18.636651Z",
     "iopub.status.busy": "2022-07-11T09:37:18.635421Z",
     "iopub.status.idle": "2022-07-11T09:37:18.648643Z",
     "shell.execute_reply": "2022-07-11T09:37:18.647698Z"
    },
    "papermill": {
     "duration": 0.022673,
     "end_time": "2022-07-11T09:37:18.650924",
     "exception": false,
     "start_time": "2022-07-11T09:37:18.628251",
     "status": "completed"
    },
    "tags": []
   },
   "outputs": [
    {
     "data": {
      "application/javascript": [
       "parent.postMessage({\"jupyterEvent\": \"custom.exercise_interaction\", \"data\": {\"outcomeType\": 1, \"valueTowardsCompletion\": 0.25, \"interactionType\": 1, \"questionType\": 2, \"questionId\": \"3_ValPreds\", \"learnToolsVersion\": \"0.3.4\", \"failureMessage\": \"\", \"exceptionClass\": \"\", \"trace\": \"\"}}, \"*\")"
      ],
      "text/plain": [
       "<IPython.core.display.Javascript object>"
      ]
     },
     "metadata": {},
     "output_type": "display_data"
    },
    {
     "data": {
      "text/markdown": [
       "<span style=\"color:#33cc33\">Correct</span>"
      ],
      "text/plain": [
       "Correct"
      ]
     },
     "metadata": {},
     "output_type": "display_data"
    }
   ],
   "source": [
    "# Predict with all validation observations\n",
    "val_predictions = iowa_model.predict(val_X)\n",
    "\n",
    "# Check your answer\n",
    "step_3.check()"
   ]
  },
  {
   "cell_type": "code",
   "execution_count": 7,
   "id": "14a1acd6",
   "metadata": {
    "execution": {
     "iopub.execute_input": "2022-07-11T09:37:18.665155Z",
     "iopub.status.busy": "2022-07-11T09:37:18.664372Z",
     "iopub.status.idle": "2022-07-11T09:37:18.669213Z",
     "shell.execute_reply": "2022-07-11T09:37:18.668194Z"
    },
    "papermill": {
     "duration": 0.014736,
     "end_time": "2022-07-11T09:37:18.671626",
     "exception": false,
     "start_time": "2022-07-11T09:37:18.656890",
     "status": "completed"
    },
    "tags": []
   },
   "outputs": [],
   "source": [
    "# step_3.hint()\n",
    "# step_3.solution()"
   ]
  },
  {
   "cell_type": "markdown",
   "id": "c9d3cb43",
   "metadata": {
    "papermill": {
     "duration": 0.005807,
     "end_time": "2022-07-11T09:37:18.683719",
     "exception": false,
     "start_time": "2022-07-11T09:37:18.677912",
     "status": "completed"
    },
    "tags": []
   },
   "source": [
    "Inspect your predictions and actual values from validation data."
   ]
  },
  {
   "cell_type": "code",
   "execution_count": 8,
   "id": "286aed5a",
   "metadata": {
    "execution": {
     "iopub.execute_input": "2022-07-11T09:37:18.698151Z",
     "iopub.status.busy": "2022-07-11T09:37:18.697115Z",
     "iopub.status.idle": "2022-07-11T09:37:18.706018Z",
     "shell.execute_reply": "2022-07-11T09:37:18.704734Z"
    },
    "papermill": {
     "duration": 0.018958,
     "end_time": "2022-07-11T09:37:18.708756",
     "exception": false,
     "start_time": "2022-07-11T09:37:18.689798",
     "status": "completed"
    },
    "tags": []
   },
   "outputs": [
    {
     "name": "stdout",
     "output_type": "stream",
     "text": [
      "[186500. 184000. 130000.  92000. 164500.]\n",
      "[231500, 179500, 122000, 84500, 142000]\n"
     ]
    }
   ],
   "source": [
    "# print the top few validation predictions\n",
    "print(val_predictions[:5])\n",
    "# print the top few actual prices from validation data\n",
    "print(val_y.head().to_list())"
   ]
  },
  {
   "cell_type": "markdown",
   "id": "1d81393f",
   "metadata": {
    "papermill": {
     "duration": 0.005904,
     "end_time": "2022-07-11T09:37:18.721059",
     "exception": false,
     "start_time": "2022-07-11T09:37:18.715155",
     "status": "completed"
    },
    "tags": []
   },
   "source": [
    "What do you notice that is different from what you saw with in-sample predictions (which are printed after the top code cell in this page).\n",
    "\n",
    "Do you remember why validation predictions differ from in-sample (or training) predictions? This is an important idea from the last lesson.\n",
    "\n",
    "## Step 4: Calculate the Mean Absolute Error in Validation Data\n"
   ]
  },
  {
   "cell_type": "code",
   "execution_count": 9,
   "id": "44f0db68",
   "metadata": {
    "execution": {
     "iopub.execute_input": "2022-07-11T09:37:18.735809Z",
     "iopub.status.busy": "2022-07-11T09:37:18.735072Z",
     "iopub.status.idle": "2022-07-11T09:37:18.746556Z",
     "shell.execute_reply": "2022-07-11T09:37:18.745546Z"
    },
    "papermill": {
     "duration": 0.021053,
     "end_time": "2022-07-11T09:37:18.748712",
     "exception": false,
     "start_time": "2022-07-11T09:37:18.727659",
     "status": "completed"
    },
    "tags": []
   },
   "outputs": [
    {
     "name": "stdout",
     "output_type": "stream",
     "text": [
      "29652.931506849316\n"
     ]
    },
    {
     "data": {
      "application/javascript": [
       "parent.postMessage({\"jupyterEvent\": \"custom.exercise_interaction\", \"data\": {\"outcomeType\": 1, \"valueTowardsCompletion\": 0.25, \"interactionType\": 1, \"questionType\": 1, \"questionId\": \"4_MAE\", \"learnToolsVersion\": \"0.3.4\", \"failureMessage\": \"\", \"exceptionClass\": \"\", \"trace\": \"\"}}, \"*\")"
      ],
      "text/plain": [
       "<IPython.core.display.Javascript object>"
      ]
     },
     "metadata": {},
     "output_type": "display_data"
    },
    {
     "data": {
      "text/markdown": [
       "<span style=\"color:#33cc33\">Correct</span>"
      ],
      "text/plain": [
       "Correct"
      ]
     },
     "metadata": {},
     "output_type": "display_data"
    }
   ],
   "source": [
    "from sklearn.metrics import mean_absolute_error\n",
    "val_mae = mean_absolute_error(val_y,val_predictions)\n",
    "\n",
    "# uncomment following line to see the validation_mae\n",
    "print(val_mae)\n",
    "\n",
    "# Check your answer\n",
    "step_4.check()"
   ]
  },
  {
   "cell_type": "code",
   "execution_count": 10,
   "id": "689da184",
   "metadata": {
    "execution": {
     "iopub.execute_input": "2022-07-11T09:37:18.763739Z",
     "iopub.status.busy": "2022-07-11T09:37:18.763288Z",
     "iopub.status.idle": "2022-07-11T09:37:18.767436Z",
     "shell.execute_reply": "2022-07-11T09:37:18.766580Z"
    },
    "papermill": {
     "duration": 0.01453,
     "end_time": "2022-07-11T09:37:18.769730",
     "exception": false,
     "start_time": "2022-07-11T09:37:18.755200",
     "status": "completed"
    },
    "tags": []
   },
   "outputs": [],
   "source": [
    "# step_4.hint()\n",
    "# step_4.solution()"
   ]
  },
  {
   "cell_type": "markdown",
   "id": "c4432b12",
   "metadata": {
    "papermill": {
     "duration": 0.006327,
     "end_time": "2022-07-11T09:37:18.782743",
     "exception": false,
     "start_time": "2022-07-11T09:37:18.776416",
     "status": "completed"
    },
    "tags": []
   },
   "source": [
    "Is that MAE good?  There isn't a general rule for what values are good that applies across applications. But you'll see how to use (and improve) this number in the next step.\n",
    "\n",
    "# Keep Going\n",
    "\n",
    "You are ready for **[Underfitting and Overfitting](https://www.kaggle.com/dansbecker/underfitting-and-overfitting).**\n"
   ]
  },
  {
   "cell_type": "markdown",
   "id": "79206dba",
   "metadata": {
    "papermill": {
     "duration": 0.006224,
     "end_time": "2022-07-11T09:37:18.795587",
     "exception": false,
     "start_time": "2022-07-11T09:37:18.789363",
     "status": "completed"
    },
    "tags": []
   },
   "source": [
    "---\n",
    "\n",
    "\n",
    "\n",
    "\n",
    "*Have questions or comments? Visit the [course discussion forum](https://www.kaggle.com/learn/intro-to-machine-learning/discussion) to chat with other learners.*"
   ]
  }
 ],
 "metadata": {
  "kernelspec": {
   "display_name": "Python 3",
   "language": "python",
   "name": "python3"
  },
  "language_info": {
   "codemirror_mode": {
    "name": "ipython",
    "version": 3
   },
   "file_extension": ".py",
   "mimetype": "text/x-python",
   "name": "python",
   "nbconvert_exporter": "python",
   "pygments_lexer": "ipython3",
   "version": "3.7.12"
  },
  "papermill": {
   "default_parameters": {},
   "duration": 13.021524,
   "end_time": "2022-07-11T09:37:19.524118",
   "environment_variables": {},
   "exception": null,
   "input_path": "__notebook__.ipynb",
   "output_path": "__notebook__.ipynb",
   "parameters": {},
   "start_time": "2022-07-11T09:37:06.502594",
   "version": "2.3.4"
  }
 },
 "nbformat": 4,
 "nbformat_minor": 5
}
