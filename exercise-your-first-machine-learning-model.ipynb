{
 "cells": [
  {
   "cell_type": "markdown",
   "id": "d7d9ca46",
   "metadata": {
    "papermill": {
     "duration": 0.007001,
     "end_time": "2022-07-11T09:34:51.478826",
     "exception": false,
     "start_time": "2022-07-11T09:34:51.471825",
     "status": "completed"
    },
    "tags": []
   },
   "source": [
    "**This notebook is an exercise in the [Introduction to Machine Learning](https://www.kaggle.com/learn/intro-to-machine-learning) course.  You can reference the tutorial at [this link](https://www.kaggle.com/dansbecker/your-first-machine-learning-model).**\n",
    "\n",
    "---\n"
   ]
  },
  {
   "cell_type": "markdown",
   "id": "d6ec9c49",
   "metadata": {
    "papermill": {
     "duration": 0.005252,
     "end_time": "2022-07-11T09:34:51.489805",
     "exception": false,
     "start_time": "2022-07-11T09:34:51.484553",
     "status": "completed"
    },
    "tags": []
   },
   "source": [
    "## Recap\n",
    "So far, you have loaded your data and reviewed it with the following code. Run this cell to set up your coding environment where the previous step left off."
   ]
  },
  {
   "cell_type": "code",
   "execution_count": 1,
   "id": "595d1632",
   "metadata": {
    "execution": {
     "iopub.execute_input": "2022-07-11T09:34:51.502823Z",
     "iopub.status.busy": "2022-07-11T09:34:51.502127Z",
     "iopub.status.idle": "2022-07-11T09:34:52.941423Z",
     "shell.execute_reply": "2022-07-11T09:34:52.940553Z"
    },
    "papermill": {
     "duration": 1.449222,
     "end_time": "2022-07-11T09:34:52.944459",
     "exception": false,
     "start_time": "2022-07-11T09:34:51.495237",
     "status": "completed"
    },
    "tags": []
   },
   "outputs": [
    {
     "name": "stdout",
     "output_type": "stream",
     "text": [
      "Setup Complete\n"
     ]
    }
   ],
   "source": [
    "# Code you have previously used to load data\n",
    "import pandas as pd\n",
    "\n",
    "# Path of the file to read\n",
    "iowa_file_path = '../input/home-data-for-ml-course/train.csv'\n",
    "\n",
    "home_data = pd.read_csv(iowa_file_path)\n",
    "\n",
    "# Set up code checking\n",
    "from learntools.core import binder\n",
    "binder.bind(globals())\n",
    "from learntools.machine_learning.ex3 import *\n",
    "\n",
    "print(\"Setup Complete\")"
   ]
  },
  {
   "cell_type": "markdown",
   "id": "f2d30df0",
   "metadata": {
    "papermill": {
     "duration": 0.005458,
     "end_time": "2022-07-11T09:34:52.955812",
     "exception": false,
     "start_time": "2022-07-11T09:34:52.950354",
     "status": "completed"
    },
    "tags": []
   },
   "source": [
    "# Exercises\n",
    "\n",
    "## Step 1: Specify Prediction Target\n",
    "Select the target variable, which corresponds to the sales price. Save this to a new variable called `y`. You'll need to print a list of the columns to find the name of the column you need.\n"
   ]
  },
  {
   "cell_type": "code",
   "execution_count": 2,
   "id": "3a34d810",
   "metadata": {
    "execution": {
     "iopub.execute_input": "2022-07-11T09:34:52.969079Z",
     "iopub.status.busy": "2022-07-11T09:34:52.968413Z",
     "iopub.status.idle": "2022-07-11T09:34:52.977027Z",
     "shell.execute_reply": "2022-07-11T09:34:52.976308Z"
    },
    "papermill": {
     "duration": 0.017732,
     "end_time": "2022-07-11T09:34:52.979193",
     "exception": false,
     "start_time": "2022-07-11T09:34:52.961461",
     "status": "completed"
    },
    "tags": []
   },
   "outputs": [
    {
     "data": {
      "text/plain": [
       "Index(['Id', 'MSSubClass', 'MSZoning', 'LotFrontage', 'LotArea', 'Street',\n",
       "       'Alley', 'LotShape', 'LandContour', 'Utilities', 'LotConfig',\n",
       "       'LandSlope', 'Neighborhood', 'Condition1', 'Condition2', 'BldgType',\n",
       "       'HouseStyle', 'OverallQual', 'OverallCond', 'YearBuilt', 'YearRemodAdd',\n",
       "       'RoofStyle', 'RoofMatl', 'Exterior1st', 'Exterior2nd', 'MasVnrType',\n",
       "       'MasVnrArea', 'ExterQual', 'ExterCond', 'Foundation', 'BsmtQual',\n",
       "       'BsmtCond', 'BsmtExposure', 'BsmtFinType1', 'BsmtFinSF1',\n",
       "       'BsmtFinType2', 'BsmtFinSF2', 'BsmtUnfSF', 'TotalBsmtSF', 'Heating',\n",
       "       'HeatingQC', 'CentralAir', 'Electrical', '1stFlrSF', '2ndFlrSF',\n",
       "       'LowQualFinSF', 'GrLivArea', 'BsmtFullBath', 'BsmtHalfBath', 'FullBath',\n",
       "       'HalfBath', 'BedroomAbvGr', 'KitchenAbvGr', 'KitchenQual',\n",
       "       'TotRmsAbvGrd', 'Functional', 'Fireplaces', 'FireplaceQu', 'GarageType',\n",
       "       'GarageYrBlt', 'GarageFinish', 'GarageCars', 'GarageArea', 'GarageQual',\n",
       "       'GarageCond', 'PavedDrive', 'WoodDeckSF', 'OpenPorchSF',\n",
       "       'EnclosedPorch', '3SsnPorch', 'ScreenPorch', 'PoolArea', 'PoolQC',\n",
       "       'Fence', 'MiscFeature', 'MiscVal', 'MoSold', 'YrSold', 'SaleType',\n",
       "       'SaleCondition', 'SalePrice'],\n",
       "      dtype='object')"
      ]
     },
     "execution_count": 2,
     "metadata": {},
     "output_type": "execute_result"
    }
   ],
   "source": [
    "# print the list of columns in the dataset to find the name of the prediction target\n",
    "home_data.columns"
   ]
  },
  {
   "cell_type": "code",
   "execution_count": 3,
   "id": "6b46a2e1",
   "metadata": {
    "execution": {
     "iopub.execute_input": "2022-07-11T09:34:52.993351Z",
     "iopub.status.busy": "2022-07-11T09:34:52.992675Z",
     "iopub.status.idle": "2022-07-11T09:34:53.005946Z",
     "shell.execute_reply": "2022-07-11T09:34:53.004954Z"
    },
    "papermill": {
     "duration": 0.022933,
     "end_time": "2022-07-11T09:34:53.008043",
     "exception": false,
     "start_time": "2022-07-11T09:34:52.985110",
     "status": "completed"
    },
    "tags": []
   },
   "outputs": [
    {
     "data": {
      "application/javascript": [
       "parent.postMessage({\"jupyterEvent\": \"custom.exercise_interaction\", \"data\": {\"outcomeType\": 1, \"valueTowardsCompletion\": 0.25, \"interactionType\": 1, \"questionType\": 2, \"questionId\": \"1_SetTarget\", \"learnToolsVersion\": \"0.3.4\", \"failureMessage\": \"\", \"exceptionClass\": \"\", \"trace\": \"\"}}, \"*\")"
      ],
      "text/plain": [
       "<IPython.core.display.Javascript object>"
      ]
     },
     "metadata": {},
     "output_type": "display_data"
    },
    {
     "data": {
      "text/markdown": [
       "<span style=\"color:#33cc33\">Correct</span>"
      ],
      "text/plain": [
       "Correct"
      ]
     },
     "metadata": {},
     "output_type": "display_data"
    }
   ],
   "source": [
    "y = home_data.SalePrice\n",
    "\n",
    "# Check your answer\n",
    "step_1.check()"
   ]
  },
  {
   "cell_type": "code",
   "execution_count": 4,
   "id": "0a811b5a",
   "metadata": {
    "collapsed": true,
    "execution": {
     "iopub.execute_input": "2022-07-11T09:34:53.022224Z",
     "iopub.status.busy": "2022-07-11T09:34:53.021571Z",
     "iopub.status.idle": "2022-07-11T09:34:53.025101Z",
     "shell.execute_reply": "2022-07-11T09:34:53.024398Z"
    },
    "jupyter": {
     "outputs_hidden": true
    },
    "papermill": {
     "duration": 0.012775,
     "end_time": "2022-07-11T09:34:53.026904",
     "exception": false,
     "start_time": "2022-07-11T09:34:53.014129",
     "status": "completed"
    },
    "tags": []
   },
   "outputs": [],
   "source": [
    "# The lines below will show you a hint or the solution.\n",
    "# step_1.hint() \n",
    "# step_1.solution()"
   ]
  },
  {
   "cell_type": "markdown",
   "id": "8d1ab681",
   "metadata": {
    "papermill": {
     "duration": 0.005951,
     "end_time": "2022-07-11T09:34:53.038910",
     "exception": false,
     "start_time": "2022-07-11T09:34:53.032959",
     "status": "completed"
    },
    "tags": []
   },
   "source": [
    "## Step 2: Create X\n",
    "Now you will create a DataFrame called `X` holding the predictive features.\n",
    "\n",
    "Since you want only some columns from the original data, you'll first create a list with the names of the columns you want in `X`.\n",
    "\n",
    "You'll use just the following columns in the list (you can copy and paste the whole list to save some typing, though you'll still need to add quotes):\n",
    "  * LotArea\n",
    "  * YearBuilt\n",
    "  * 1stFlrSF\n",
    "  * 2ndFlrSF\n",
    "  * FullBath\n",
    "  * BedroomAbvGr\n",
    "  * TotRmsAbvGrd\n",
    "\n",
    "After you've created that list of features, use it to create the DataFrame that you'll use to fit the model."
   ]
  },
  {
   "cell_type": "code",
   "execution_count": 5,
   "id": "de917171",
   "metadata": {
    "execution": {
     "iopub.execute_input": "2022-07-11T09:34:53.053368Z",
     "iopub.status.busy": "2022-07-11T09:34:53.052620Z",
     "iopub.status.idle": "2022-07-11T09:34:53.066840Z",
     "shell.execute_reply": "2022-07-11T09:34:53.065954Z"
    },
    "papermill": {
     "duration": 0.023757,
     "end_time": "2022-07-11T09:34:53.068792",
     "exception": false,
     "start_time": "2022-07-11T09:34:53.045035",
     "status": "completed"
    },
    "tags": []
   },
   "outputs": [
    {
     "data": {
      "application/javascript": [
       "parent.postMessage({\"jupyterEvent\": \"custom.exercise_interaction\", \"data\": {\"outcomeType\": 1, \"valueTowardsCompletion\": 0.25, \"interactionType\": 1, \"questionType\": 2, \"questionId\": \"2_SelectPredictionData\", \"learnToolsVersion\": \"0.3.4\", \"failureMessage\": \"\", \"exceptionClass\": \"\", \"trace\": \"\"}}, \"*\")"
      ],
      "text/plain": [
       "<IPython.core.display.Javascript object>"
      ]
     },
     "metadata": {},
     "output_type": "display_data"
    },
    {
     "data": {
      "text/markdown": [
       "<span style=\"color:#33cc33\">Correct</span>"
      ],
      "text/plain": [
       "Correct"
      ]
     },
     "metadata": {},
     "output_type": "display_data"
    }
   ],
   "source": [
    "# Create the list of features below\n",
    "feature_names = ['LotArea', 'YearBuilt', '1stFlrSF', '2ndFlrSF', 'FullBath', 'BedroomAbvGr', 'TotRmsAbvGrd']\n",
    "\n",
    "# Select data corresponding to features in feature_names\n",
    "X = home_data[feature_names]\n",
    "\n",
    "# Check your answer\n",
    "step_2.check()"
   ]
  },
  {
   "cell_type": "code",
   "execution_count": 6,
   "id": "07b6e556",
   "metadata": {
    "collapsed": true,
    "execution": {
     "iopub.execute_input": "2022-07-11T09:34:53.083996Z",
     "iopub.status.busy": "2022-07-11T09:34:53.083309Z",
     "iopub.status.idle": "2022-07-11T09:34:53.086905Z",
     "shell.execute_reply": "2022-07-11T09:34:53.086192Z"
    },
    "jupyter": {
     "outputs_hidden": true
    },
    "papermill": {
     "duration": 0.013461,
     "end_time": "2022-07-11T09:34:53.088752",
     "exception": false,
     "start_time": "2022-07-11T09:34:53.075291",
     "status": "completed"
    },
    "tags": []
   },
   "outputs": [],
   "source": [
    "# step_2.hint()\n",
    "# step_2.solution()"
   ]
  },
  {
   "cell_type": "markdown",
   "id": "a40b1945",
   "metadata": {
    "papermill": {
     "duration": 0.006398,
     "end_time": "2022-07-11T09:34:53.101526",
     "exception": false,
     "start_time": "2022-07-11T09:34:53.095128",
     "status": "completed"
    },
    "tags": []
   },
   "source": [
    "## Review Data\n",
    "Before building a model, take a quick look at **X** to verify it looks sensible"
   ]
  },
  {
   "cell_type": "code",
   "execution_count": 7,
   "id": "5e32ddee",
   "metadata": {
    "execution": {
     "iopub.execute_input": "2022-07-11T09:34:53.116896Z",
     "iopub.status.busy": "2022-07-11T09:34:53.115924Z",
     "iopub.status.idle": "2022-07-11T09:34:53.154061Z",
     "shell.execute_reply": "2022-07-11T09:34:53.152530Z"
    },
    "papermill": {
     "duration": 0.048651,
     "end_time": "2022-07-11T09:34:53.156736",
     "exception": false,
     "start_time": "2022-07-11T09:34:53.108085",
     "status": "completed"
    },
    "tags": []
   },
   "outputs": [
    {
     "name": "stdout",
     "output_type": "stream",
     "text": [
      "             LotArea    YearBuilt     1stFlrSF     2ndFlrSF     FullBath  \\\n",
      "count    1460.000000  1460.000000  1460.000000  1460.000000  1460.000000   \n",
      "mean    10516.828082  1971.267808  1162.626712   346.992466     1.565068   \n",
      "std      9981.264932    30.202904   386.587738   436.528436     0.550916   \n",
      "min      1300.000000  1872.000000   334.000000     0.000000     0.000000   \n",
      "25%      7553.500000  1954.000000   882.000000     0.000000     1.000000   \n",
      "50%      9478.500000  1973.000000  1087.000000     0.000000     2.000000   \n",
      "75%     11601.500000  2000.000000  1391.250000   728.000000     2.000000   \n",
      "max    215245.000000  2010.000000  4692.000000  2065.000000     3.000000   \n",
      "\n",
      "       BedroomAbvGr  TotRmsAbvGrd  \n",
      "count   1460.000000   1460.000000  \n",
      "mean       2.866438      6.517808  \n",
      "std        0.815778      1.625393  \n",
      "min        0.000000      2.000000  \n",
      "25%        2.000000      5.000000  \n",
      "50%        3.000000      6.000000  \n",
      "75%        3.000000      7.000000  \n",
      "max        8.000000     14.000000  \n",
      "   LotArea  YearBuilt  1stFlrSF  2ndFlrSF  FullBath  BedroomAbvGr  \\\n",
      "0     8450       2003       856       854         2             3   \n",
      "1     9600       1976      1262         0         2             3   \n",
      "2    11250       2001       920       866         2             3   \n",
      "3     9550       1915       961       756         1             3   \n",
      "4    14260       2000      1145      1053         2             4   \n",
      "\n",
      "   TotRmsAbvGrd  \n",
      "0             8  \n",
      "1             6  \n",
      "2             6  \n",
      "3             7  \n",
      "4             9  \n"
     ]
    }
   ],
   "source": [
    "# Review data\n",
    "# print description or statistics from X\n",
    "print(X.describe())\n",
    "\n",
    "# print the top few lines\n",
    "print(X.head())"
   ]
  },
  {
   "cell_type": "markdown",
   "id": "3e825b94",
   "metadata": {
    "papermill": {
     "duration": 0.006482,
     "end_time": "2022-07-11T09:34:53.169952",
     "exception": false,
     "start_time": "2022-07-11T09:34:53.163470",
     "status": "completed"
    },
    "tags": []
   },
   "source": [
    "## Step 3: Specify and Fit Model\n",
    "Create a `DecisionTreeRegressor` and save it iowa_model. Ensure you've done the relevant import from sklearn to run this command.\n",
    "\n",
    "Then fit the model you just created using the data in `X` and `y` that you saved above."
   ]
  },
  {
   "cell_type": "code",
   "execution_count": 8,
   "id": "a5a76764",
   "metadata": {
    "execution": {
     "iopub.execute_input": "2022-07-11T09:34:53.185620Z",
     "iopub.status.busy": "2022-07-11T09:34:53.184818Z",
     "iopub.status.idle": "2022-07-11T09:34:53.203054Z",
     "shell.execute_reply": "2022-07-11T09:34:53.202315Z"
    },
    "papermill": {
     "duration": 0.02823,
     "end_time": "2022-07-11T09:34:53.205030",
     "exception": false,
     "start_time": "2022-07-11T09:34:53.176800",
     "status": "completed"
    },
    "tags": []
   },
   "outputs": [
    {
     "data": {
      "application/javascript": [
       "parent.postMessage({\"jupyterEvent\": \"custom.exercise_interaction\", \"data\": {\"outcomeType\": 1, \"valueTowardsCompletion\": 0.25, \"interactionType\": 1, \"questionType\": 2, \"questionId\": \"3_CreateModel\", \"learnToolsVersion\": \"0.3.4\", \"failureMessage\": \"\", \"exceptionClass\": \"\", \"trace\": \"\"}}, \"*\")"
      ],
      "text/plain": [
       "<IPython.core.display.Javascript object>"
      ]
     },
     "metadata": {},
     "output_type": "display_data"
    },
    {
     "data": {
      "text/markdown": [
       "<span style=\"color:#33cc33\">Correct</span>"
      ],
      "text/plain": [
       "Correct"
      ]
     },
     "metadata": {},
     "output_type": "display_data"
    }
   ],
   "source": [
    "from sklearn.tree import DecisionTreeRegressor\n",
    "#specify the model. \n",
    "#For model reproducibility, set a numeric value for random_state when specifying the model\n",
    "iowa_model = DecisionTreeRegressor(random_state=1)\n",
    "\n",
    "# Fit the model\n",
    "iowa_model.fit(X,y)\n",
    "\n",
    "# Check your answer\n",
    "step_3.check()"
   ]
  },
  {
   "cell_type": "code",
   "execution_count": 9,
   "id": "51c95196",
   "metadata": {
    "collapsed": true,
    "execution": {
     "iopub.execute_input": "2022-07-11T09:34:53.220710Z",
     "iopub.status.busy": "2022-07-11T09:34:53.219883Z",
     "iopub.status.idle": "2022-07-11T09:34:53.224761Z",
     "shell.execute_reply": "2022-07-11T09:34:53.223800Z"
    },
    "jupyter": {
     "outputs_hidden": true
    },
    "papermill": {
     "duration": 0.015288,
     "end_time": "2022-07-11T09:34:53.227034",
     "exception": false,
     "start_time": "2022-07-11T09:34:53.211746",
     "status": "completed"
    },
    "tags": []
   },
   "outputs": [],
   "source": [
    "# step_3.hint()\n",
    "# step_3.solution()"
   ]
  },
  {
   "cell_type": "markdown",
   "id": "ce332aee",
   "metadata": {
    "papermill": {
     "duration": 0.006845,
     "end_time": "2022-07-11T09:34:53.240716",
     "exception": false,
     "start_time": "2022-07-11T09:34:53.233871",
     "status": "completed"
    },
    "tags": []
   },
   "source": [
    "## Step 4: Make Predictions\n",
    "Make predictions with the model's `predict` command using `X` as the data. Save the results to a variable called `predictions`."
   ]
  },
  {
   "cell_type": "code",
   "execution_count": 10,
   "id": "2b47def4",
   "metadata": {
    "execution": {
     "iopub.execute_input": "2022-07-11T09:34:53.257152Z",
     "iopub.status.busy": "2022-07-11T09:34:53.256590Z",
     "iopub.status.idle": "2022-07-11T09:34:53.272954Z",
     "shell.execute_reply": "2022-07-11T09:34:53.272132Z"
    },
    "papermill": {
     "duration": 0.026675,
     "end_time": "2022-07-11T09:34:53.275031",
     "exception": false,
     "start_time": "2022-07-11T09:34:53.248356",
     "status": "completed"
    },
    "tags": []
   },
   "outputs": [
    {
     "name": "stdout",
     "output_type": "stream",
     "text": [
      "[208500. 181500. 223500. ... 266500. 142125. 147500.]\n"
     ]
    },
    {
     "data": {
      "application/javascript": [
       "parent.postMessage({\"jupyterEvent\": \"custom.exercise_interaction\", \"data\": {\"outcomeType\": 1, \"valueTowardsCompletion\": 0.25, \"interactionType\": 1, \"questionType\": 2, \"questionId\": \"4_MakePredictions\", \"learnToolsVersion\": \"0.3.4\", \"failureMessage\": \"\", \"exceptionClass\": \"\", \"trace\": \"\"}}, \"*\")"
      ],
      "text/plain": [
       "<IPython.core.display.Javascript object>"
      ]
     },
     "metadata": {},
     "output_type": "display_data"
    },
    {
     "data": {
      "text/markdown": [
       "<span style=\"color:#33cc33\">Correct</span>"
      ],
      "text/plain": [
       "Correct"
      ]
     },
     "metadata": {},
     "output_type": "display_data"
    }
   ],
   "source": [
    "predictions = iowa_model.predict(X)\n",
    "print(predictions)\n",
    "\n",
    "# Check your answer\n",
    "step_4.check()"
   ]
  },
  {
   "cell_type": "code",
   "execution_count": 11,
   "id": "08cd1194",
   "metadata": {
    "collapsed": true,
    "execution": {
     "iopub.execute_input": "2022-07-11T09:34:53.291298Z",
     "iopub.status.busy": "2022-07-11T09:34:53.290899Z",
     "iopub.status.idle": "2022-07-11T09:34:53.294409Z",
     "shell.execute_reply": "2022-07-11T09:34:53.293582Z"
    },
    "jupyter": {
     "outputs_hidden": true
    },
    "papermill": {
     "duration": 0.014266,
     "end_time": "2022-07-11T09:34:53.296548",
     "exception": false,
     "start_time": "2022-07-11T09:34:53.282282",
     "status": "completed"
    },
    "tags": []
   },
   "outputs": [],
   "source": [
    "# step_4.hint()\n",
    "# step_4.solution()"
   ]
  },
  {
   "cell_type": "markdown",
   "id": "e8ced8b7",
   "metadata": {
    "papermill": {
     "duration": 0.007189,
     "end_time": "2022-07-11T09:34:53.311036",
     "exception": false,
     "start_time": "2022-07-11T09:34:53.303847",
     "status": "completed"
    },
    "tags": []
   },
   "source": [
    "## Think About Your Results\n",
    "\n",
    "Use the `head` method to compare the top few predictions to the actual home values (in `y`) for those same homes. Anything surprising?\n"
   ]
  },
  {
   "cell_type": "code",
   "execution_count": 12,
   "id": "cd8ef224",
   "metadata": {
    "execution": {
     "iopub.execute_input": "2022-07-11T09:34:53.327716Z",
     "iopub.status.busy": "2022-07-11T09:34:53.327033Z",
     "iopub.status.idle": "2022-07-11T09:34:53.333895Z",
     "shell.execute_reply": "2022-07-11T09:34:53.332298Z"
    },
    "papermill": {
     "duration": 0.017972,
     "end_time": "2022-07-11T09:34:53.336308",
     "exception": false,
     "start_time": "2022-07-11T09:34:53.318336",
     "status": "completed"
    },
    "tags": []
   },
   "outputs": [
    {
     "name": "stdout",
     "output_type": "stream",
     "text": [
      "0    208500\n",
      "1    181500\n",
      "2    223500\n",
      "3    140000\n",
      "4    250000\n",
      "Name: SalePrice, dtype: int64\n",
      "[208500. 181500. 223500. 140000. 250000.]\n"
     ]
    }
   ],
   "source": [
    "# You can write code in this cell\n",
    "print(y.head())\n",
    "print(predictions[:5])\n"
   ]
  },
  {
   "cell_type": "markdown",
   "id": "32ae3818",
   "metadata": {
    "papermill": {
     "duration": 0.007167,
     "end_time": "2022-07-11T09:34:53.350912",
     "exception": false,
     "start_time": "2022-07-11T09:34:53.343745",
     "status": "completed"
    },
    "tags": []
   },
   "source": [
    "It's natural to ask how accurate the model's predictions will be and how you can improve that. That will be you're next step.\n",
    "\n",
    "# Keep Going\n",
    "\n",
    "You are ready for **[Model Validation](https://www.kaggle.com/dansbecker/model-validation).**\n"
   ]
  },
  {
   "cell_type": "markdown",
   "id": "f01405ee",
   "metadata": {
    "papermill": {
     "duration": 0.00705,
     "end_time": "2022-07-11T09:34:53.365421",
     "exception": false,
     "start_time": "2022-07-11T09:34:53.358371",
     "status": "completed"
    },
    "tags": []
   },
   "source": [
    "---\n",
    "\n",
    "\n",
    "\n",
    "\n",
    "*Have questions or comments? Visit the [course discussion forum](https://www.kaggle.com/learn/intro-to-machine-learning/discussion) to chat with other learners.*"
   ]
  }
 ],
 "metadata": {
  "kernelspec": {
   "display_name": "Python 3",
   "language": "python",
   "name": "python3"
  },
  "language_info": {
   "codemirror_mode": {
    "name": "ipython",
    "version": 3
   },
   "file_extension": ".py",
   "mimetype": "text/x-python",
   "name": "python",
   "nbconvert_exporter": "python",
   "pygments_lexer": "ipython3",
   "version": "3.7.12"
  },
  "papermill": {
   "default_parameters": {},
   "duration": 12.657756,
   "end_time": "2022-07-11T09:34:54.093779",
   "environment_variables": {},
   "exception": null,
   "input_path": "__notebook__.ipynb",
   "output_path": "__notebook__.ipynb",
   "parameters": {},
   "start_time": "2022-07-11T09:34:41.436023",
   "version": "2.3.4"
  }
 },
 "nbformat": 4,
 "nbformat_minor": 5
}
